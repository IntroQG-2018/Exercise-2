{
 "cells": [
  {
   "cell_type": "markdown",
   "metadata": {
    "deletable": false,
    "editable": false,
    "nbgrader": {
     "checksum": "26e42a41867e999788a5746e851b3ab7",
     "grade": false,
     "grade_id": "cell-66492db48276ecf2",
     "locked": true,
     "schema_version": 1,
     "solution": false
    }
   },
   "source": [
    "# Exercise 2: Comparing data to predictions\n",
    "\n",
    "In this week's exercise we will work on comparing observations (data) to predictions.\n",
    "In particular, we will explore two different ways in which we can compare data to a prediction:\n",
    "\n",
    "1. Comparing individual measured values to their equivalent predicted values using a *goodness-of-fit* equation\n",
    "2. Fitting a line to *x-y* data using the *least squares regression*\n",
    "\n",
    "Both of these cases are frequently used, and can even be conducted in commonly used software such as **Microsoft Excel**.\n",
    "Our goal is to understand what the numbers from these \"fits\" mean and how they are calculated.\n",
    "\n",
    "For each problem you need to modify the given notebook, and then upload your files to GitHub.\n",
    "The answers to the questions in this week's exercise should be given by modifying the document in places where you are asked.\n",
    "\n",
    "- **Exercise 2 is due by the start of class on on 12.11.**\n",
    "- Don't forget to check out [the hints for this week's exercise](https://introqg.github.io/qg/lessons/L2/exercise-2.html) if you're having trouble.\n",
    "- Scores on this exercise are out of 20 points."
   ]
  },
  {
   "cell_type": "markdown",
   "metadata": {
    "deletable": false,
    "editable": false,
    "nbgrader": {
     "checksum": "f0bf11b469c504c4bcd4838a7863cdfe",
     "grade": false,
     "grade_id": "cell-831414fad4f17ee7",
     "locked": true,
     "schema_version": 1,
     "solution": false
    }
   },
   "source": [
    "# Problem 2: Linear data regression - Detecting changing climate (11 points)\n",
    "\n",
    "For this problem we will again use the NOAA climate data from Exercises 6 and 7 of the [Geo-Python course](https://geo-python.github.io) with a slight twist.\n",
    "As a reminder, you will be working with a climate data file from the [US National Oceanographic and Atmospheric Administration (NOAA) climate database](https://www.ncdc.noaa.gov/cdo-web/).\n",
    "In order to jump right into things, we have provided you with [a data file that has already been processed](data/seasonal-temps.csv) containing the means and standard deviations of seasonal temperatures (in Celsius) for winter and summer for the years 1952-2016.\n",
    "The first 5 lines of the data file are:\n",
    "\n",
    "```\n",
    "year,winter_mean,winter_std,summer_mean,summer_std\n",
    "1952,-2.770692,1.065687,14.666325,1.128088\n",
    "1953,-5.116566,3.016217,16.406215,0.913148\n",
    "1954,-6.226597,4.711928,15.329372,1.236887\n",
    "1955,-8.276137,2.293563,16.104136,2.578732\n",
    "```\n",
    "\n",
    "Your task is to load this data and use a least squares regression to fit trendlines to the temperature data.\n",
    "\n",
    "*If you're looking for a challenge, you are welcome to load in the [original data file from Exerise 6](data/1091402.txt) and process it as was done for Exercises 6 and 7, or load the [seasonal data output file from Exercise 7](data/helsinki-numpy.csv) as a starting point for this problem.\n",
    "As a reminder, the [original data file](data/1091402.txt) has daily mean, minimum, and maximum temperatures for the Helsinki-Vantaa airport weather station from January 1952-October 2017.\n",
    "The [seasonal data output file](data/helsinki-numpy.csv) has columns for the date_monthly, year_monthly, month_monthly, temp_monthly, temp_monthly_celsius, ref_temps_monthly, and anomaly in that order.*"
   ]
  },
  {
   "cell_type": "markdown",
   "metadata": {
    "deletable": false,
    "editable": false,
    "nbgrader": {
     "checksum": "39c43b4d07ab07bac3d444e929df9437",
     "grade": false,
     "grade_id": "cell-623bc0391667345b",
     "locked": true,
     "schema_version": 1,
     "solution": false
    }
   },
   "source": [
    "## Part 1: Reading the data file (1 point)\n",
    "\n",
    "Your first task is to read in [the data file for this problem](data/seasonal-temps.csv) and split the data into column arrays.\n",
    "\n",
    "For this part you should:\n",
    "\n",
    "- Read the data file into a varaible called `data`, skipping the header\n",
    "- Split the data file into separate column arrays called `year`, `winter_mean`, `winter_std`, `summer_mean`, and `summer_std`"
   ]
  },
  {
   "cell_type": "code",
   "execution_count": null,
   "metadata": {
    "deletable": false,
    "nbgrader": {
     "checksum": "26ce35109859fb393102704b961b9df6",
     "grade": false,
     "grade_id": "read_data",
     "locked": false,
     "schema_version": 1,
     "solution": true
    }
   },
   "outputs": [],
   "source": [
    "# Import NumPy and Matplotlib\n",
    "import numpy as np\n",
    "import matplotlib.pyplot as plt\n",
    "\n",
    "# YOUR CODE HERE\n",
    "raise NotImplementedError()"
   ]
  },
  {
   "cell_type": "code",
   "execution_count": null,
   "metadata": {
    "deletable": false,
    "editable": false,
    "nbgrader": {
     "checksum": "165cffecfce184b09fcd99722de63101",
     "grade": true,
     "grade_id": "read_data_tests",
     "locked": true,
     "points": 1,
     "schema_version": 1,
     "solution": false
    }
   },
   "outputs": [],
   "source": [
    "# This test should print the first row of the data file\n",
    "print(\"First row of the data file:\\n\", data[0,:])\n"
   ]
  },
  {
   "cell_type": "markdown",
   "metadata": {
    "deletable": false,
    "editable": false,
    "nbgrader": {
     "checksum": "4217a23e2f5b700b582ec08443a05d5a",
     "grade": false,
     "grade_id": "cell-635b64c41547c355",
     "locked": true,
     "schema_version": 1,
     "solution": false
    }
   },
   "source": [
    "## Part 2: Calculating linear regression lines (4 points)\n",
    "\n",
    "Your next task in this problem is to calculate the slopes `B` and *y*-intercepts `A` for [linear regression lines](https://introqg.github.io/qg/lessons/L2/least-squares.html) of the both seasonal average temperatures versus time.\n",
    "You will do this for two time intervals: (1) the entire time covered by the data, and (2) 1997-2016, the last 20 years in the data.\n",
    "\n",
    "For this part you should:\n",
    "\n",
    "- Create a function `linregress` that can be used to determine the slope `B` and *y*-intercept `A` for a regression line to data `x` and `y`.\n",
    "In this problem, `x` would represent time data, and `y` would represent temperature.\n",
    "- Use your `linregress` function to calculate the slopes and intercepts for summer and winter for the time periods mentioned above (the entire range of years, and 1997-2016).\n",
    "You should name these values as follows:\n",
    "    - Entire range of years: `Aw` and `Bw` for winter, `As` and `Bs` for summer\n",
    "    - Last 20 years: `Aw20` and `Bw20` for winter, `As20` and `Bs20` for summer"
   ]
  },
  {
   "cell_type": "code",
   "execution_count": null,
   "metadata": {
    "deletable": false,
    "nbgrader": {
     "checksum": "1fe44c0ba6501aa5df01a49de8751609",
     "grade": false,
     "grade_id": "linregress",
     "locked": false,
     "schema_version": 1,
     "solution": true
    }
   },
   "outputs": [],
   "source": [
    "def linregress(x, y):\n",
    "    \"\"\"Calculates the slope and y-intercept of a least squares regression line.\"\"\"\n",
    "# YOUR CODE HERE\n",
    "raise NotImplementedError()"
   ]
  },
  {
   "cell_type": "code",
   "execution_count": null,
   "metadata": {
    "deletable": false,
    "editable": false,
    "nbgrader": {
     "checksum": "3a342cba34f8f98f34eca321b0e08dd1",
     "grade": true,
     "grade_id": "linregress_tests",
     "locked": true,
     "points": 4,
     "schema_version": 1,
     "solution": false
    }
   },
   "outputs": [],
   "source": [
    "# This test should work\n",
    "print(\"Winter (all years) slope {0:.4f} and intercept {1:.1f} should be 0.0382 and -80.8.\".format(Bw, Aw))\n"
   ]
  },
  {
   "cell_type": "markdown",
   "metadata": {
    "deletable": false,
    "editable": false,
    "nbgrader": {
     "checksum": "44a2de7820d9af83267a9ac2871f4022",
     "grade": false,
     "grade_id": "cell-d54feb83f47b84a6",
     "locked": true,
     "schema_version": 1,
     "solution": false
    }
   },
   "source": [
    "## Part 3: Plotting your results (4.5 points)\n",
    "\n",
    "Your last coding task for this problem is to create some plots of your seasonal temperature data and their trendlines.\n",
    "An example of the types of plots you should create are below.\n",
    "**Note**: You should create separate plots, not use subplots as shown in the example below.\n",
    "\n",
    "![Temperature trends in Helsinki](temp-trends.png)\n",
    "\n",
    "For this part you should:\n",
    "\n",
    "- Create 2 plots of the seasonal temperature data: (1) one for the entire time covered in the data and (2) another for the last 20 years of data\n",
    "    - Plot the seasonal average temperature data for both seasons on the same plot, using error bars to show the standard deviation in seasonal temperature\n",
    "    - Plot the regression lines for each season as well to compare to the yearly temperature data. You may want to consult [the hints for this week's exercise](https://introqg.github.io/qg/lessons/L2/exercise-2.html) about how to plot the regression lines.\n",
    "- Include axis labels, a title and a legend for each plot, as well as text displaying the slope of the regression lines for both the summer and winter seasons\n",
    "- Add a figure captions in the Markdown cell below each Python cell for your plots that describe the plots as if they were in a scientific journal article"
   ]
  },
  {
   "cell_type": "code",
   "execution_count": null,
   "metadata": {
    "deletable": false,
    "nbgrader": {
     "checksum": "354513a3292b4140876a1eec5a7aaafa",
     "grade": true,
     "grade_id": "plot_all",
     "locked": false,
     "points": 1.5,
     "schema_version": 1,
     "solution": true
    }
   },
   "outputs": [],
   "source": [
    "# Plot for all years goes here\n",
    "\n",
    "# YOUR CODE HERE\n",
    "raise NotImplementedError()"
   ]
  },
  {
   "cell_type": "markdown",
   "metadata": {
    "deletable": false,
    "nbgrader": {
     "checksum": "0c363c0cde1e5abae9d3e8e26ee3cb8d",
     "grade": true,
     "grade_id": "plot_all_caption",
     "locked": false,
     "points": 0.5,
     "schema_version": 1,
     "solution": true
    }
   },
   "source": [
    "YOUR ANSWER HERE"
   ]
  },
  {
   "cell_type": "code",
   "execution_count": null,
   "metadata": {
    "deletable": false,
    "nbgrader": {
     "checksum": "6e5bcd33f496bff903e24c384698755a",
     "grade": true,
     "grade_id": "plot_20",
     "locked": false,
     "points": 2,
     "schema_version": 1,
     "solution": true
    }
   },
   "outputs": [],
   "source": [
    "# Plot for last 20 years goes here\n",
    "\n",
    "# YOUR CODE HERE\n",
    "raise NotImplementedError()"
   ]
  },
  {
   "cell_type": "markdown",
   "metadata": {
    "deletable": false,
    "nbgrader": {
     "checksum": "2cbebb90660d3c0f086abe499655cf01",
     "grade": true,
     "grade_id": "plot_20_caption",
     "locked": false,
     "points": 0.5,
     "schema_version": 1,
     "solution": true
    }
   },
   "source": [
    "YOUR ANSWER HERE"
   ]
  },
  {
   "cell_type": "markdown",
   "metadata": {
    "deletable": false,
    "editable": false,
    "nbgrader": {
     "checksum": "7c58cbdf96fec721709e93036b5009d2",
     "grade": false,
     "grade_id": "cell-eeaa9d664a18d20c",
     "locked": true,
     "schema_version": 1,
     "solution": false
    }
   },
   "source": [
    "## Part 4: Questions for Problem 2 (1.5 points)\n",
    "\n",
    "1. For the linear regressions for the entire age range of seasonal average temperature data, is a line a suitable representation of the changes in seasonal average temperature from 1953-2016?\n",
    "In other words, does your linear \"fit\" fall entirely within the uncertainty of your seasonal average temperatures, or are there some years where the line is outside of the standard deviation in seasonal temperature?\n",
    "Is a linear fit an appropriate choice?\n",
    "By how much do your linear regression lines suggest seasonal average temperatures have changed per year?\n",
    "2. What about the linear regressions for the last 20 years?\n",
    "Is a line a suitable representation of the changes in seasonal average temperature for this shorter time period?\n",
    "By how much do your linear regression lines suggest seasonal average temperatures have changed per year?\n",
    "Do you find these results surprising?\n",
    "Why or why not?\n",
    "3. Globally, climate data would suggest that not only are temperatures rising on average each year, but that the rate of change in temperature may also be increasing.\n",
    "Does your analysis from the Helsinki-Vantaa weather data support this?\n",
    "Does this kind of analysis help demonstrate why some people may have a difficulty in understanding global climate change?"
   ]
  },
  {
   "cell_type": "markdown",
   "metadata": {
    "deletable": false,
    "nbgrader": {
     "checksum": "0060029dc5be8fc67e76fec657f8157b",
     "grade": true,
     "grade_id": "questions",
     "locked": false,
     "points": 1.5,
     "schema_version": 1,
     "solution": true
    }
   },
   "source": [
    "YOUR ANSWER HERE"
   ]
  }
 ],
 "metadata": {
  "kernelspec": {
   "display_name": "Python 3",
   "language": "python",
   "name": "python3"
  },
  "language_info": {
   "codemirror_mode": {
    "name": "ipython",
    "version": 3
   },
   "file_extension": ".py",
   "mimetype": "text/x-python",
   "name": "python",
   "nbconvert_exporter": "python",
   "pygments_lexer": "ipython3",
   "version": "3.6.4"
  }
 },
 "nbformat": 4,
 "nbformat_minor": 2
}
