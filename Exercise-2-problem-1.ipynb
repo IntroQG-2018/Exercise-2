{
 "cells": [
  {
   "cell_type": "markdown",
   "metadata": {
    "deletable": false,
    "editable": false,
    "nbgrader": {
     "checksum": "2d1d12a9cb63341a32bb94c8a8216021",
     "grade": false,
     "grade_id": "cell-889822bcf36189bc",
     "locked": true,
     "schema_version": 1,
     "solution": false
    }
   },
   "source": [
    "# Exercise 2: Comparing data to predictions\n",
    "\n",
    "In this week's exercise we will work on comparing observations (data) to predictions.\n",
    "In particular, we will explore two different ways in which we can compare data to a prediction:\n",
    "\n",
    "1. Comparing individual measured values to their equivalent predicted values using a *goodness-of-fit* equation\n",
    "2. Fitting a line to *x-y* data using the *least squares regression*\n",
    "\n",
    "Both of these cases are frequently used, and can even be conducted in commonly used software such as **Microsoft Excel**.\n",
    "Our goal is to understand what the numbers from these \"fits\" mean and how they are calculated.\n",
    "\n",
    "For each problem you need to modify the given notebook, and then upload your files to GitHub.\n",
    "The answers to the questions in this week's exercise should be given by modifying the document in places where you are asked.\n",
    "\n",
    "- **Exercise 2 is due by the start of class on on 12.11.**\n",
    "- Don't forget to check out [the hints for this week's exercise](https://introqg.github.io/qg/lessons/L2/exercise-2.html) if you're having trouble.\n",
    "- Scores on this exercise are out of 20 points."
   ]
  },
  {
   "cell_type": "markdown",
   "metadata": {
    "deletable": false,
    "editable": false,
    "nbgrader": {
     "checksum": "d7492747aea5e3b22144c332a92fb70f",
     "grade": false,
     "grade_id": "cell-929ed99818014927",
     "locked": true,
     "schema_version": 1,
     "solution": false
    }
   },
   "source": [
    "# Problem 1: Calculating a goodness-of-fit (9 points)\n",
    "\n",
    "For this problem, you will work on reading some measured and predicted [thermochronometer age data](data/Coutand2014-AFT-ages.txt) (don't worry about what these ages mean for now), calculating a goodness-of-fit for the data, and making a data plot.\n",
    "Data for this exercise comes from a [recent paper published on the exhumation of the Himalaya in Bhutan](http://dx.doi.org/10.1002/2013JB010891), in case you're curious."
   ]
  },
  {
   "cell_type": "markdown",
   "metadata": {
    "deletable": false,
    "editable": false,
    "nbgrader": {
     "checksum": "8e9f8675c80b0e300a6629f900ed55e3",
     "grade": false,
     "grade_id": "cell-b80cd665a699e8c0",
     "locked": true,
     "schema_version": 1,
     "solution": false
    }
   },
   "source": [
    "## Part 1: Reading the data file (1 point)\n",
    "\n",
    "You first task for this problem is to read the data file [Coutand2014-AFT-ages.txt](data/Coutand2014-AFT-ages.txt) and split the data into separate arrays for each variable.\n",
    "\n",
    "For this part you should:\n",
    "\n",
    "- Read the data file into a varaible called `data`\n",
    "- Split the data file into separate column arrays called `longitude`, `latitude`, `elevation`, `measured_age`, `std_dev`, and `predicted_age`"
   ]
  },
  {
   "cell_type": "code",
   "execution_count": null,
   "metadata": {
    "deletable": false,
    "nbgrader": {
     "checksum": "26ce35109859fb393102704b961b9df6",
     "grade": false,
     "grade_id": "read_data",
     "locked": false,
     "schema_version": 1,
     "solution": true
    }
   },
   "outputs": [],
   "source": [
    "# Import NumPy and Matplotlib\n",
    "import numpy as np\n",
    "import matplotlib.pyplot as plt\n",
    "\n",
    "# YOUR CODE HERE\n",
    "raise NotImplementedError()"
   ]
  },
  {
   "cell_type": "code",
   "execution_count": null,
   "metadata": {
    "deletable": false,
    "editable": false,
    "nbgrader": {
     "checksum": "165cffecfce184b09fcd99722de63101",
     "grade": true,
     "grade_id": "read_data_tests",
     "locked": true,
     "points": 1,
     "schema_version": 1,
     "solution": false
    }
   },
   "outputs": [],
   "source": [
    "# This test should print the first row of the data file\n",
    "print(\"First row of the data file:\\n\", data[0,:])\n"
   ]
  },
  {
   "cell_type": "markdown",
   "metadata": {
    "deletable": false,
    "editable": false,
    "nbgrader": {
     "checksum": "87b163afc6dbef48ef154bedb205f070",
     "grade": false,
     "grade_id": "cell-8801cdeebcd7921e",
     "locked": true,
     "schema_version": 1,
     "solution": false
    }
   },
   "source": [
    "## Part 2: Calculating a goodness-of-fit (3 points)\n",
    "\n",
    "Next, you should create a function to calculate the goodness-of-fit of the data in the data file.\n",
    "For this, you can use the reduced chi-squared equation,\n",
    "\n",
    "\\begin{equation}\n",
    "  \\Large\n",
    "  \\chi^{2} = \\frac{1}{N} \\sum \\frac{(O_{i} - E_{i})^{2}}{\\sigma_{i}^2}\n",
    "\\end{equation}\n",
    "\n",
    "where $N$ is the number of ages, $O_{i}$ is the $i$th measured age, $E_{i}$ is the $i$th predicted age, and $\\sigma_{i}$ is the $i$th standard deviation.\n",
    "\n",
    "For this part you should:\n",
    "\n",
    "- Create a function called `chi_squared` that can be used to calculate the reduced chi-squared value for the data in the age data file\n",
    "- Use your `chi_squared` function to calculate the goodness-of-fit of the predicted ages data to the measured ages"
   ]
  },
  {
   "cell_type": "code",
   "execution_count": null,
   "metadata": {
    "deletable": false,
    "nbgrader": {
     "checksum": "3c494b18cab93b1f22fc0319c8e166ca",
     "grade": false,
     "grade_id": "chi_squared",
     "locked": false,
     "schema_version": 1,
     "solution": true
    }
   },
   "outputs": [],
   "source": [
    "def chi_squared(measured, predicted, std):\n",
    "    \"\"\"Returns the reduced chi-squared value for input age data.\"\"\"\n",
    "# YOUR CODE HERE\n",
    "raise NotImplementedError()"
   ]
  },
  {
   "cell_type": "code",
   "execution_count": null,
   "metadata": {
    "deletable": false,
    "editable": false,
    "nbgrader": {
     "checksum": "e25ceec098299ed5543d73a91ec8ba7e",
     "grade": true,
     "grade_id": "chi_squared_tests",
     "locked": true,
     "points": 3,
     "schema_version": 1,
     "solution": false
    }
   },
   "outputs": [],
   "source": [
    "# This test should work\n",
    "print(\"My goodness of fit {0:.2f} should be 7.64.\".format(chi_squared(measured_age, predicted_age, std_dev)))\n"
   ]
  },
  {
   "cell_type": "markdown",
   "metadata": {
    "deletable": false,
    "editable": false,
    "nbgrader": {
     "checksum": "069dabdb8d6a1d3668aab76ebf2ea7bb",
     "grade": false,
     "grade_id": "cell-5756aee7cf789d7e",
     "locked": true,
     "schema_version": 1,
     "solution": false
    }
   },
   "source": [
    "## Part 3: Plotting the data (4 points)\n",
    "\n",
    "To get a sense of how the goodness-of-fit value and the age data relate, your next tasks is to produce a plot of the measured and predicted age data.\n",
    "An example of the plot similar to that you should produce is below.\n",
    "\n",
    "![Bhutan age data](img/Bhutan-age-data.png)\n",
    "\n",
    "For this part you should:\n",
    "\n",
    "- Produce a plot of the measured and predicted ages as a function of latitude\n",
    "    - Be sure to also plot the error bars with for the measured ages. There's a [useful Matplotlib function](https://matplotlib.org/api/_as_gen/matplotlib.pyplot.errorbar.html) for this.\n",
    "- Display the calculated goodness-of-fit value from Part 2 as text on the plot\n",
    "- Include axis labels and a title\n",
    "- Add a figure caption in the Markdown cell below the Python cell for your plot that describes the plot as if it were in a scientific journal article"
   ]
  },
  {
   "cell_type": "code",
   "execution_count": null,
   "metadata": {
    "deletable": false,
    "nbgrader": {
     "checksum": "a7a39718efcb85ef0d6614c874bdbb63",
     "grade": true,
     "grade_id": "plot",
     "locked": false,
     "points": 3,
     "schema_version": 1,
     "solution": true
    }
   },
   "outputs": [],
   "source": [
    "# YOUR CODE HERE\n",
    "raise NotImplementedError()"
   ]
  },
  {
   "cell_type": "markdown",
   "metadata": {
    "deletable": false,
    "nbgrader": {
     "checksum": "60ea3c3948e7898cc92c94877726a2f8",
     "grade": true,
     "grade_id": "plot_caption",
     "locked": false,
     "points": 1,
     "schema_version": 1,
     "solution": true
    }
   },
   "source": [
    "YOUR ANSWER HERE"
   ]
  },
  {
   "cell_type": "markdown",
   "metadata": {
    "deletable": false,
    "editable": false,
    "nbgrader": {
     "checksum": "98bfe4caf6e760b35184e892f8c3d6bb",
     "grade": false,
     "grade_id": "cell-d2c755941bb3a593",
     "locked": true,
     "schema_version": 1,
     "solution": false
    }
   },
   "source": [
    "## Part 4: Questions for Problem 1 (1 point)\n",
    "\n",
    "1. Looking at your plot and without looking at the goodness of fit value, how well would you say the predicted ages fit the measured ages in this example?\n",
    "Is this difficult to do?\n",
    "Why or why not?\n",
    "2. How well would you say the predicted ages fit the measurements using the calculated goodness of fit?\n",
    "Is your calculated goodness of fit intuitive to use?\n",
    "Why or why not?"
   ]
  },
  {
   "cell_type": "markdown",
   "metadata": {
    "deletable": false,
    "nbgrader": {
     "checksum": "fe3d19107d6051d4bbb261a17040efea",
     "grade": true,
     "grade_id": "questions",
     "locked": false,
     "points": 1,
     "schema_version": 1,
     "solution": true
    }
   },
   "source": [
    "YOUR ANSWER HERE"
   ]
  },
  {
   "cell_type": "markdown",
   "metadata": {
    "deletable": false,
    "editable": false,
    "nbgrader": {
     "checksum": "a72973ee462f76294caebc96f68e6e46",
     "grade": false,
     "grade_id": "cell-5cdba88e204b15d1",
     "locked": true,
     "schema_version": 1,
     "solution": false
    }
   },
   "source": [
    "### References\n",
    "[Coutand, I., Whipp, D.M., Grujic, D., Bernet, M., Fellin, M.G., Bookhagen, B., Landry, K.R., Ghalley, S.K. and Duncan, C., 2014. Geometry and kinematics of the Main Himalayan Thrust and Neogene crustal exhumation in the Bhutanese Himalaya derived from inversion of multithermochronologic data. *Journal of Geophysical Research: Solid Earth*, *119*(2), pp.1446-1481](https://dx.doi.org/10.1002/2013JB010891)"
   ]
  }
 ],
 "metadata": {
  "kernelspec": {
   "display_name": "Python 3",
   "language": "python",
   "name": "python3"
  },
  "language_info": {
   "codemirror_mode": {
    "name": "ipython",
    "version": 3
   },
   "file_extension": ".py",
   "mimetype": "text/x-python",
   "name": "python",
   "nbconvert_exporter": "python",
   "pygments_lexer": "ipython3",
   "version": "3.6.4"
  }
 },
 "nbformat": 4,
 "nbformat_minor": 2
}
